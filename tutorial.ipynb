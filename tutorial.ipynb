{
 "cells": [
  {
   "cell_type": "markdown",
   "metadata": {
    "collapsed": true
   },
   "source": [
    "# Tutorial\n",
    "\n",
    "This tutorial takes you through the Flair library. \n",
    "\n",
    "## NLP base types\n",
    "\n",
    "The Sentence object is the central object to our library. It holds a Sentence, consisting of Tokens. To this object, various layers of linguistic annotation may be added. This is also the central object for embedding your text.\n",
    "\n",
    "Let's illustrate this with an example sentence."
   ]
  },
  {
   "cell_type": "code",
   "execution_count": 3,
   "metadata": {},
   "outputs": [
    {
     "name": "stdout",
     "output_type": "stream",
     "text": [
      "Sentence: \"The grass is green .\" - 5 Tokens\n"
     ]
    }
   ],
   "source": [
    "# The sentence objects holds a sentence that we may want to embed\n",
    "from flair.data import Sentence\n",
    "\n",
    "# Make a sentence object by passing a whitespace tokenized string\n",
    "sentence = Sentence('The grass is green .')\n",
    "\n",
    "# Print the object to see what's in there\n",
    "print(sentence)"
   ]
  },
  {
   "cell_type": "markdown",
   "metadata": {},
   "source": [
    "Each word in a sentence is a Token object. You can directly access a token using the token_id. Each token has attributes, such as an id and a text."
   ]
  },
  {
   "cell_type": "code",
   "execution_count": 10,
   "metadata": {},
   "outputs": [
    {
     "name": "stdout",
     "output_type": "stream",
     "text": [
      "Token: 4 green\ngreen\n4\n"
     ]
    }
   ],
   "source": [
    "print(sentence[4])"
   ]
  },
  {
   "cell_type": "markdown",
   "metadata": {},
   "source": [
    "You can also iterate over all tokens in a sentence."
   ]
  },
  {
   "cell_type": "code",
   "execution_count": 11,
   "metadata": {},
   "outputs": [
    {
     "name": "stdout",
     "output_type": "stream",
     "text": [
      "Token: 1 The\nToken: 2 grass\nToken: 3 is\nToken: 4 green\nToken: 5 .\n"
     ]
    }
   ],
   "source": [
    "for token in sentence:\n",
    "    print(token) "
   ]
  },
  {
   "cell_type": "markdown",
   "metadata": {},
   "source": [
    "Tokens can also have tags, such as a named entity tag. In this example, we're adding an NER tag of type 'color' to \n",
    "the word 'green' in the example sentence.\n"
   ]
  },
  {
   "cell_type": "code",
   "execution_count": 12,
   "metadata": {},
   "outputs": [
    {
     "name": "stdout",
     "output_type": "stream",
     "text": [
      "The grass is green <color> .\n"
     ]
    }
   ],
   "source": [
    "# add a tag to a word in the sentence\n",
    "sentence[4].add_tag('ner', 'color')\n",
    "\n",
    "# print the sentence with all tags of this type\n",
    "print(sentence.to_ner_string())"
   ]
  },
  {
   "cell_type": "markdown",
   "metadata": {},
   "source": [
    "## Tagging with Pre-Trained Models\n",
    "\n",
    "Now, lets use a pre-trained model for named entity recognition (NER). \n",
    "This model was trained over the English CoNLL-03 task and can recognize 4 different entity\n",
    "types.\n"
   ]
  },
  {
   "cell_type": "markdown",
   "metadata": {},
   "source": [
    ""
   ]
  },
  {
   "cell_type": "markdown",
   "metadata": {},
   "source": [
    ""
   ]
  },
  {
   "cell_type": "markdown",
   "metadata": {},
   "source": [
    "\n",
    "You chose which pre-trained model you load by passing the appropriate \n",
    "string you pass to the `load()` method of the `SequenceTaggerLSTM` class. Currently, the following pre-trained models\n",
    "are provided (more coming): \n",
    " \n",
    "'ner': English NER\n",
    "\n",
    "## Embeddings\n",
    "\n",
    "We provide a set of classes with which you can embed the words in sentences in various ways. Note that all embedding \n",
    "classes inherit from the `TextEmbeddings` class and implement the `embed()` method which you need to call \n",
    "to embed your text. This means that for most users of Flair, the complexity of different embeddings remains hidden \n",
    "behind this interface. Simply instantiate the embedding class you require and call `embed()` to embed your text.\n",
    "\n",
    "All embeddings produced with our methods are pytorch vectors, so they can be immediately used for training and \n",
    "fine-tuning.\n",
    "\n",
    "### Classic Word Embeddings\n",
    "\n",
    "Classic word embeddings are static and word-level, meaning that each distinc word gets exactly one pre-computed \n",
    "embedding. Most embeddings fall under this class, including the popular GloVe or Komnios embeddings. \n",
    "\n",
    "Simply instantiate the WordEmbeddings class and pass a string identifier of the embedding you wish to load. So, if \n",
    "you want to use GloVe embeddings, pass the string 'glove' to the constructor: \n"
   ]
  },
  {
   "cell_type": "markdown",
   "metadata": {},
   "source": [
    "\n",
    "You chose which pre-trained model you load by passing the appropriate \n",
    "string you pass to the `load()` method of the `SequenceTaggerLSTM` class. Currently, the following pre-trained models\n",
    "are provided (more coming): \n",
    " \n",
    "'ner': English NER\n",
    "\n",
    "## Embeddings\n",
    "\n",
    "We provide a set of classes with which you can embed the words in sentences in various ways. Note that all embedding \n",
    "classes inherit from the `TextEmbeddings` class and implement the `embed()` method which you need to call \n",
    "to embed your text. This means that for most users of Flair, the complexity of different embeddings remains hidden \n",
    "behind this interface. Simply instantiate the embedding class you require and call `embed()` to embed your text.\n",
    "\n",
    "All embeddings produced with our methods are pytorch vectors, so they can be immediately used for training and \n",
    "fine-tuning.\n",
    "\n",
    "### Classic Word Embeddings\n",
    "\n",
    "Classic word embeddings are static and word-level, meaning that each distinc word gets exactly one pre-computed \n",
    "embedding. Most embeddings fall under this class, including the popular GloVe or Komnios embeddings. \n",
    "\n",
    "Simply instantiate the WordEmbeddings class and pass a string identifier of the embedding you wish to load. So, if \n",
    "you want to use GloVe embeddings, pass the string 'glove' to the constructor: \n"
   ]
  },
  {
   "cell_type": "markdown",
   "metadata": {},
   "source": [
    ""
   ]
  },
  {
   "cell_type": "markdown",
   "metadata": {},
   "source": [
    ""
   ]
  },
  {
   "cell_type": "markdown",
   "metadata": {},
   "source": [
    "This prints out the tokens and their embeddings. GloVe embeddings are pytorch vectors of dimensionality 100.\n",
    "\n",
    "You choose which pre-trained embeddings you load by passing the appropriate \n",
    "string you pass to the constructor of the `WordEmbeddings` class. Currently, the following static embeddings\n",
    "are provided (more coming): \n",
    "\n",
    " 'glove'     : GloVe embeddings \n",
    "\n",
    " 'extvec'    : Komnios embeddings \n",
    "\n",
    " 'ft-crawl'  : FastText embeddings \n",
    "\n",
    " 'ft-german' : German FastText embeddings \n",
    "\n",
    "So, if you want to load German FastText embeddings, instantiate the method as follows:\n"
   ]
  },
  {
   "cell_type": "markdown",
   "metadata": {},
   "source": [
    "This prints out the tokens and their embeddings. GloVe embeddings are pytorch vectors of dimensionality 100.\n",
    "\n",
    "You choose which pre-trained embeddings you load by passing the appropriate \n",
    "string you pass to the constructor of the `WordEmbeddings` class. Currently, the following static embeddings\n",
    "are provided (more coming): \n",
    "\n",
    " 'glove'     : GloVe embeddings \n",
    "\n",
    " 'extvec'    : Komnios embeddings \n",
    "\n",
    " 'ft-crawl'  : FastText embeddings \n",
    "\n",
    " 'ft-german' : German FastText embeddings \n",
    "\n",
    "So, if you want to load German FastText embeddings, instantiate the method as follows:\n"
   ]
  },
  {
   "cell_type": "code",
   "execution_count": null,
   "metadata": {},
   "outputs": [],
   "source": [
    "german_embedding = WordEmbeddings('ft-german')\n"
   ]
  }
 ],
 "metadata": {
  "kernelspec": {
   "display_name": "Python 3",
   "language": "python",
   "name": "python3"
  },
  "language_info": {
   "codemirror_mode": {
    "name": "ipython",
    "version": 3.0
   },
   "file_extension": ".py",
   "mimetype": "text/x-python",
   "name": "python",
   "nbconvert_exporter": "python",
   "pygments_lexer": "ipython3",
   "version": "3.6.4"
  }
 },
 "nbformat": 4,
 "nbformat_minor": 0
}
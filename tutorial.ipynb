{
 "cells": [
  {
   "cell_type": "markdown",
   "metadata": {
    "collapsed": true
   },
   "source": [
    "# Tutorial\n",
    "\n",
    "This tutorial takes you through the Flair library. \n",
    "\n",
    "## NLP base types\n",
    "\n",
    "The Sentence object is the central object to our library. It holds a Sentence, consisting of Tokens. To this object, various layers of linguistic annotation may be added. This is also the central object for embedding your text.\n",
    "\n",
    "Let's illustrate this with an example sentence."
   ]
  },
  {
   "cell_type": "code",
   "execution_count": 4,
   "metadata": {},
   "outputs": [
    {
     "name": "stdout",
     "output_type": "stream",
     "text": [
      "Sentence: \"The grass is green .\" - 5 Tokens\n"
     ]
    }
   ],
   "source": [
    "# The sentence objects holds a sentence that we may want to embed\n",
    "from flair.data import Sentence\n",
    "\n",
    "# Make a sentence object by passing a whitespace tokenized string\n",
    "sentence = Sentence('The grass is green .')\n",
    "\n",
    "# Print the object to see what's in there\n",
    "print(sentence)"
   ]
  },
  {
   "cell_type": "markdown",
   "metadata": {},
   "source": [
    "Each word in a sentence is a Token object. You can directly access a token using the token_id. Each token has attributes, such as an id and a text."
   ]
  },
  {
   "cell_type": "code",
   "execution_count": 6,
   "metadata": {},
   "outputs": [
    {
     "name": "stdout",
     "output_type": "stream",
     "text": [
      "Token: 4 green\n"
     ]
    }
   ],
   "source": [
    "print(sentence[4])"
   ]
  },
  {
   "cell_type": "markdown",
   "metadata": {},
   "source": [
    "You can also iterate over all tokens in a sentence."
   ]
  },
  {
   "cell_type": "code",
   "execution_count": 7,
   "metadata": {},
   "outputs": [
    {
     "name": "stdout",
     "output_type": "stream",
     "text": [
      "Token: 1 The\nToken: 2 grass\nToken: 3 is\nToken: 4 green\nToken: 5 .\n"
     ]
    }
   ],
   "source": [
    "for token in sentence:\n",
    "    print(token)"
   ]
  },
  {
   "cell_type": "markdown",
   "metadata": {},
   "source": [
    "Tokens can also have tags, such as a named entity tag. In this example, we're adding an NER tag of type 'color' to \n",
    "the word 'green' in the example sentence.\n"
   ]
  },
  {
   "cell_type": "code",
   "execution_count": 8,
   "metadata": {},
   "outputs": [
    {
     "name": "stdout",
     "output_type": "stream",
     "text": [
      "The grass is green <color> .\n"
     ]
    }
   ],
   "source": [
    "# add a tag to a word in the sentence\n",
    "sentence[4].add_tag('ner', 'color')\n",
    "\n",
    "# print the sentence with all tags of this type\n",
    "print(sentence.to_ner_string())"
   ]
  },
  {
   "cell_type": "markdown",
   "metadata": {},
   "source": [
    "## Tagging with Pre-Trained Models\n",
    "\n",
    "Now, lets use a pre-trained model for named entity recognition (NER). \n",
    "This model was trained over the English CoNLL-03 task and can recognize 4 different entity\n",
    "types.\n"
   ]
  },
  {
   "cell_type": "code",
   "execution_count": 21,
   "metadata": {},
   "outputs": [],
   "source": [
    "from flair.tagging_model import SequenceTaggerLSTM\n",
    "\n",
    "tagger = SequenceTaggerLSTM.load('ner')"
   ]
  },
  {
   "cell_type": "markdown",
   "metadata": {},
   "source": [
    ""
   ]
  },
  {
   "cell_type": "markdown",
   "metadata": {},
   "source": [
    "All you need to do is use the `predict()` method of the tagger on a sentence. This will add predicted tags to the tokens\n",
    "in the sentence. Lets use a sentence with two named\n",
    "entities: "
   ]
  },
  {
   "cell_type": "code",
   "execution_count": 12,
   "metadata": {},
   "outputs": [
    {
     "name": "stdout",
     "output_type": "stream",
     "text": [
      "George <B-PER> Washington <E-PER> went to Washington <S-LOC> .\n"
     ]
    }
   ],
   "source": [
    "sentence = Sentence('George Washington went to Washington .')\n",
    "\n",
    "# predict NER tags\n",
    "tagger.predict(sentence)\n",
    "\n",
    "# print sentence with predicted tags\n",
    "print(sentence.to_tag_string())"
   ]
  },
  {
   "cell_type": "markdown",
   "metadata": {},
   "source": [
    ""
   ]
  },
  {
   "cell_type": "markdown",
   "metadata": {},
   "source": [
    ""
   ]
  },
  {
   "cell_type": "markdown",
   "metadata": {},
   "source": [
    "You chose which pre-trained model you load by passing the appropriate \n",
    "string you pass to the `load()` method of the `SequenceTaggerLSTM` class. Currently, the following pre-trained models\n",
    "are provided (more coming): \n",
    " \n",
    "\n",
    " 'ner' : Conll-03 Named Entity Recognition (English)     \n",
    "\n",
    " 'chunk' : Conll-2000 Syntactic Chunking (English)    \n"
   ]
  },
  {
   "cell_type": "markdown",
   "metadata": {},
   "source": [
    "## Embeddings\n",
    "\n",
    "We provide a set of classes with which you can embed the words in sentences in various ways. Note that all embedding \n",
    "classes inherit from the `TextEmbeddings` class and implement the `embed()` method which you need to call \n",
    "to embed your text. This means that for most users of Flair, the complexity of different embeddings remains hidden \n",
    "behind this interface. Simply instantiate the embedding class you require and call `embed()` to embed your text.\n",
    "\n",
    "All embeddings produced with our methods are pytorch vectors, so they can be immediately used for training and \n",
    "fine-tuning.\n",
    "\n",
    "### Classic Word Embeddings\n",
    "\n",
    "Classic word embeddings are static and word-level, meaning that each distinc word gets exactly one pre-computed \n",
    "embedding. Most embeddings fall under this class, including the popular GloVe or Komnios embeddings. \n",
    "\n",
    "Simply instantiate the WordEmbeddings class and pass a string identifier of the embedding you wish to load. So, if \n",
    "you want to use GloVe embeddings, pass the string 'glove' to the constructor: "
   ]
  },
  {
   "cell_type": "code",
   "execution_count": 16,
   "metadata": {},
   "outputs": [],
   "source": [
    "# all embeddings inherit from the TextEmbeddings class. Init a simple glove embedding.\n",
    "from flair.embeddings import WordEmbeddings\n",
    "glove_embedding = WordEmbeddings('glove')"
   ]
  },
  {
   "cell_type": "markdown",
   "metadata": {},
   "source": [
    "Now, create an example sentence and call the embedding's `embed()` method. You always pass a list of sentences to \n",
    "this method since some embedding types make use of batching to increase speed. So if you only have one sentence, \n",
    "pass a list containing only one sentence:\n"
   ]
  },
  {
   "cell_type": "code",
   "execution_count": 17,
   "metadata": {},
   "outputs": [
    {
     "name": "stdout",
     "output_type": "stream",
     "text": [
      "Token: 1 The\ntorch.Size([100])\nToken: 2 grass\ntorch.Size([100])\nToken: 3 is\ntorch.Size([100])\nToken: 4 green\ntorch.Size([100])\nToken: 5 .\ntorch.Size([100])\n"
     ]
    }
   ],
   "source": [
    "# embed a sentence using glove.\n",
    "from flair.data import Sentence\n",
    "sentence = Sentence('The grass is green .')\n",
    "glove_embedding.embed(sentences=[sentence])\n",
    "\n",
    "# now check out the embedded tokens.\n",
    "for token in sentence:\n",
    "    print(token)\n",
    "    print(token.embedding.size())"
   ]
  },
  {
   "cell_type": "markdown",
   "metadata": {},
   "source": [
    "This prints out the tokens and their embeddings. GloVe embeddings are pytorch vectors of dimensionality 100.\n",
    "\n",
    "You choose which pre-trained embeddings you load by passing the appropriate \n",
    "string you pass to the constructor of the `WordEmbeddings` class. Currently, the following static embeddings\n",
    "are provided (more coming): \n",
    " \n",
    "'glove' : GloVe embeddings \n",
    "\n",
    "'extvec' : Komnios embeddings \n",
    "\n",
    "'ft-crawl' : FastText embeddings \n",
    "\n",
    "'ft-german' : German FastText embeddings \n",
    "\n",
    "So, if you want to load German FastText embeddings, instantiate the method as follows:\n"
   ]
  },
  {
   "cell_type": "code",
   "execution_count": 18,
   "metadata": {},
   "outputs": [],
   "source": [
    "german_embedding = WordEmbeddings('ft-german')"
   ]
  },
  {
   "cell_type": "markdown",
   "metadata": {},
   "source": [
    "### Contextual String Embeddings\n",
    "\n",
    "\n",
    "Contextual string embeddings are [powerful embeddings](https://drive.google.com/file/d/17yVpFA7MmXaQFTe-HDpZuqw9fJlmzg56/view?usp=sharing)\n",
    " that capture latent syntactic-semantic information that goes beyond\n",
    "standard word embeddings. Key differences are: (1) they are trained without any explicit notion of words and\n",
    "thus fundamentally model words as sequences of characters. And (2) they are **contextualized** by their\n",
    "surrounding text, meaning that the *same word will have different embeddings depending on its\n",
    "contextual use*.\n",
    "\n",
    "With Flair, you can use these embeddings simply by instantiating the appropriate embedding class, same as before:"
   ]
  },
  {
   "cell_type": "code",
   "execution_count": 19,
   "metadata": {},
   "outputs": [
    {
     "name": "stdout",
     "output_type": "stream",
     "text": [
      "FORWARD language mode loaded\non cuda:\nFalse\n"
     ]
    },
    {
     "data": {
      "text/plain": [
       "[<flair.data.Sentence at 0x7fabc51055f8>]"
      ]
     },
     "execution_count": 19,
     "metadata": {},
     "output_type": "execute_result"
    }
   ],
   "source": [
    "# the CharLMEmbedding also inherits from the TextEmbeddings class\n",
    "from flair.embeddings import CharLMEmbeddings\n",
    "charlm_embedding_forward = CharLMEmbeddings('news-forward')\n",
    "\n",
    "# embed a sentence using CharLM.\n",
    "from flair.data import Sentence\n",
    "sentence = Sentence('The grass is green .')\n",
    "charlm_embedding_forward.embed(sentences=[sentence])"
   ]
  },
  {
   "cell_type": "markdown",
   "metadata": {},
   "source": [
    "You choose which embeddings you load by passing the appropriate \n",
    "string you pass to the constructor of the `CharLMEmbeddings` class. Currently, the following contextual string\n",
    " embeddings\n",
    "are provided (more coming): \n",
    " \n",
    "| ID | Language | Embedding | \n",
    "| -------------     | ------------- | ------------- |\n",
    "| 'news-forward'    | English | Forward LM embeddings over 1 billion word corpus |\n",
    "| 'news-backward'   | English | Backward LM embeddings over 1 billion word corpus |\n",
    "| 'mix-forward'     | English | Forward LM embeddings over mixed corpus (Web, Wikipedia, Subtitles) |\n",
    "| 'mix-backward'    | English | Backward LM embeddings over mixed corpus (Web, Wikipedia, Subtitles) |\n",
    "| 'german-forward'  | German  | Forward LM embeddings over mixed corpus (Web, Wikipedia, Subtitles) |\n",
    "| 'german-backward' | German  | Backward LM embeddings over mixed corpus (Web, Wikipedia, Subtitles) |\n",
    "\n",
    "So, if you want to load embeddings from the English news backward LM model, instantiate the method as follows:\n"
   ]
  },
  {
   "cell_type": "code",
   "execution_count": 20,
   "metadata": {},
   "outputs": [
    {
     "name": "stdout",
     "output_type": "stream",
     "text": [
      "BACKWARD language mode loaded\non cuda:\nFalse\n"
     ]
    }
   ],
   "source": [
    "charlm_embedding_backward = CharLMEmbeddings('news-backward')"
   ]
  },
  {
   "cell_type": "markdown",
   "metadata": {},
   "source": [
    "### Character Embeddings\n",
    "\n",
    "Some embeddings - such as character-features - are not pre-trained but rather trained on the downstream task. Normally\n",
    "this requires you to implement a [hierarchical embedding architecture](http://neuroner.com/NeuroNERengine_with_caption_no_figure.png). \n",
    "\n",
    "With Flair, you need not worry about such things. Just choose the appropriate\n",
    "embedding class and character features will then automatically train during downstream task training. \n"
   ]
  },
  {
   "cell_type": "code",
   "execution_count": 1,
   "metadata": {},
   "outputs": [
    {
     "data": {
      "text/plain": [
       "[<flair.data.Sentence at 0x7f074da405f8>]"
      ]
     },
     "execution_count": 1,
     "metadata": {},
     "output_type": "execute_result"
    }
   ],
   "source": [
    "# the CharLMEmbedding also inherits from the TextEmbeddings class\n",
    "from flair.embeddings import CharacterEmbeddings\n",
    "embedder = CharacterEmbeddings()\n",
    "\n",
    "# embed a sentence using CharLM.\n",
    "from flair.data import Sentence\n",
    "sentence = Sentence('The grass is green .')\n",
    "embedder.embed(sentences=[sentence])"
   ]
  },
  {
   "cell_type": "markdown",
   "metadata": {},
   "source": [
    "\n",
    "## Stacked Embeddings\n",
    "\n",
    "Stacked embeddings are one of the most important concepts of this library. You can use them to combine different embeddings\n",
    "together, for instance if you want to use both traditional embeddings together with contextual sting embeddings. \n",
    "Stacked embeddings allow you to mix and match. We find that a combination of embeddings often gives best results. \n",
    "\n",
    "All you need to do is use the `StackedEmbeddings` class and instantiate it by passing a list of embeddings that you wish \n",
    "to combine. For instance, lets combine classic GloVe embeddings with embeddings from a forward and backward \n",
    "character language model.\n",
    "\n",
    "First, instantiate the three embeddings you wish to combine: "
   ]
  },
  {
   "cell_type": "code",
   "execution_count": 2,
   "metadata": {},
   "outputs": [
    {
     "name": "stdout",
     "output_type": "stream",
     "text": [
      "FORWARD language mode loaded\non cuda:\nFalse\n"
     ]
    },
    {
     "name": "stdout",
     "output_type": "stream",
     "text": [
      "BACKWARD language mode loaded\non cuda:\nFalse\n"
     ]
    }
   ],
   "source": [
    "# the CharLMEmbedding also inherits from the TextEmbeddings class\n",
    "from flair.embeddings import WordEmbeddings, CharLMEmbeddings\n",
    "\n",
    "# init GloVe embedding\n",
    "glove_embedding = WordEmbeddings('glove')\n",
    "\n",
    "# init CharLM embedding\n",
    "charlm_embedding_forward = CharLMEmbeddings('news-forward')\n",
    "charlm_embedding_backward = CharLMEmbeddings('news-backward')"
   ]
  },
  {
   "cell_type": "markdown",
   "metadata": {},
   "source": [
    "Now instantiate the `StackedEmbeddings` class and pass it a list containing these three embeddings.\n"
   ]
  },
  {
   "cell_type": "code",
   "execution_count": 3,
   "metadata": {},
   "outputs": [],
   "source": [
    "# now create the StackedEmbedding object that combines all embeddings\n",
    "from flair.embeddings import StackedEmbeddings\n",
    "stacked_embeddings = StackedEmbeddings(embeddings=[glove_embedding, charlm_embedding_forward, charlm_embedding_backward])"
   ]
  },
  {
   "cell_type": "markdown",
   "metadata": {},
   "source": [
    "That's it! Now just use this embedding like all the other embeddings, i.e. call the `embed()` method over your sentences.\n"
   ]
  },
  {
   "cell_type": "code",
   "execution_count": 4,
   "metadata": {},
   "outputs": [
    {
     "name": "stdout",
     "output_type": "stream",
     "text": [
      "Token: 1 The\ntensor([-3.8194e-02, -2.4487e-01,  7.2812e-01,  ..., -2.5692e-05,\n        -5.9604e-03, -2.5547e-03])\nToken: 2 grass\ntensor([-8.1353e-01,  9.4042e-01, -2.4048e-01,  ..., -6.7730e-05,\n        -3.0360e-03, -1.3282e-02])\nToken: 3 is\ntensor([-5.4264e-01,  4.1476e-01,  1.0322e+00,  ..., -6.5714e-03,\n        -3.5937e-03, -1.4478e-03])\nToken: 4 green\ntensor([-6.7907e-01,  3.4908e-01, -2.3984e-01,  ..., -2.2562e-05,\n        -1.0895e-04, -4.3916e-03])\nToken: 5 .\ntensor([-3.3979e-01,  2.0941e-01,  4.6348e-01,  ...,  4.1382e-05,\n        -4.4364e-04, -2.5425e-02])\n"
     ]
    }
   ],
   "source": [
    "# just embed a sentence using the StackedEmbedding as you would with any single embedding.\n",
    "from flair.data import Sentence\n",
    "sentence = Sentence('The grass is green .')\n",
    "stacked_embeddings.embed(sentences=[sentence])\n",
    "\n",
    "# now check out the embedded tokens.\n",
    "for token in sentence:\n",
    "    print(token)\n",
    "    print(token.embedding)"
   ]
  },
  {
   "cell_type": "markdown",
   "metadata": {},
   "source": [
    "Words are now embedding using a concatenation of three different embeddings. This means that the resulting embedding\n",
    "vector is still a single Pytorch vector. \n",
    "\n",
    "\n",
    "## Training a Model\n",
    "\n",
    "Here is example code for a small NER model trained over CoNLL-03 data, using simple GloVe embeddings.\n",
    "In this example, we downsample the data to 10% of the original data. \n"
   ]
  },
  {
   "cell_type": "code",
   "execution_count": null,
   "metadata": {},
   "outputs": [],
   "source": [
    ""
   ]
  },
  {
   "cell_type": "code",
   "execution_count": null,
   "metadata": {},
   "outputs": [],
   "source": [
    ""
   ]
  },
  {
   "cell_type": "code",
   "execution_count": null,
   "metadata": {},
   "outputs": [],
   "source": [
    ""
   ]
  },
  {
   "cell_type": "code",
   "execution_count": null,
   "metadata": {},
   "outputs": [],
   "source": [
    ""
   ]
  },
  {
   "cell_type": "code",
   "execution_count": null,
   "metadata": {},
   "outputs": [],
   "source": [
    ""
   ]
  }
 ],
 "metadata": {
  "kernelspec": {
   "display_name": "Python 3",
   "language": "python",
   "name": "python3"
  },
  "language_info": {
   "codemirror_mode": {
    "name": "ipython",
    "version": 3.0
   },
   "file_extension": ".py",
   "mimetype": "text/x-python",
   "name": "python",
   "nbconvert_exporter": "python",
   "pygments_lexer": "ipython3",
   "version": "3.6.4"
  }
 },
 "nbformat": 4,
 "nbformat_minor": 0
}